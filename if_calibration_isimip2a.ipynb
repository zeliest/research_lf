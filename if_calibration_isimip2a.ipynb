{
 "cells": [
  {
   "cell_type": "code",
   "execution_count": 26,
   "metadata": {},
   "outputs": [],
   "source": [
    "import os\n",
    "import numpy as np\n",
    "import pandas as pd\n",
    "import matplotlib.pyplot as plt\n",
    "import cartopy.crs as ccrs\n",
    "import scipy\n",
    "from scipy.optimize import curve_fit\n",
    "\n",
    "from climada.hazard.low_flow import LowFlow\n",
    "\n",
    "from climada.entity import ImpactFunc, ImpactFuncSet\n",
    "from climada.entity.exposures import Exposures\n",
    "from climada.engine import Impact\n",
    "import datetime\n",
    "import warnings\n",
    "warnings.filterwarnings(\"ignore\")"
   ]
  },
  {
   "cell_type": "markdown",
   "metadata": {},
   "source": [
    "# New Attempt to get impact functions, using ISIMIP2a where the actual events should be seen\n",
    "\n",
    "\n",
    "###            1. load hazard & exposures for the years& regions found in the literature research\n",
    "###            2. change slope of impact function and calculate impacts until equivalent loss of production is found\n"
   ]
  },
  {
   "cell_type": "code",
   "execution_count": 2,
   "metadata": {},
   "outputs": [
    {
     "name": "stdout",
     "output_type": "stream",
     "text": [
      "2020-07-02 12:57:06,925 - climada.util.coordinates - INFO - Setting geometry points.\n",
      "2020-07-02 12:57:07,129 - climada.entity.exposures.base - INFO - crs set to default value: {'init': 'epsg:4326', 'no_defs': True}\n",
      "2020-07-02 12:57:07,129 - climada.entity.exposures.base - INFO - tag metadata set to default value:  File: \n",
      " Description: \n",
      "2020-07-02 12:57:07,130 - climada.entity.exposures.base - INFO - ref_year metadata set to default value: 2018\n",
      "2020-07-02 12:57:07,130 - climada.entity.exposures.base - INFO - value_unit metadata set to default value: USD\n",
      "2020-07-02 12:57:07,130 - climada.entity.exposures.base - INFO - meta metadata set to default value: None\n",
      "2020-07-02 12:57:07,131 - climada.entity.exposures.base - INFO - Hazard type not set in if_\n",
      "2020-07-02 12:57:07,131 - climada.entity.exposures.base - INFO - centr_ not set.\n",
      "2020-07-02 12:57:07,132 - climada.entity.exposures.base - INFO - deductible not set.\n",
      "2020-07-02 12:57:07,132 - climada.entity.exposures.base - INFO - cover not set.\n",
      "2020-07-02 12:57:07,133 - climada.entity.exposures.base - INFO - category_id not set.\n",
      "2020-07-02 12:57:07,134 - climada.entity.exposures.base - INFO - region_id not set.\n",
      "2020-07-02 12:57:07,165 - climada.util.coordinates - INFO - Setting geometry points.\n",
      "2020-07-02 12:57:07,171 - climada.entity.exposures.base - INFO - crs set to default value: {'init': 'epsg:4326', 'no_defs': True}\n",
      "2020-07-02 12:57:07,172 - climada.entity.exposures.base - INFO - tag metadata set to default value:  File: \n",
      " Description: \n",
      "2020-07-02 12:57:07,172 - climada.entity.exposures.base - INFO - ref_year metadata set to default value: 2018\n",
      "2020-07-02 12:57:07,172 - climada.entity.exposures.base - INFO - value_unit metadata set to default value: USD\n",
      "2020-07-02 12:57:07,173 - climada.entity.exposures.base - INFO - meta metadata set to default value: None\n",
      "2020-07-02 12:57:07,173 - climada.entity.exposures.base - INFO - Hazard type not set in if_\n",
      "2020-07-02 12:57:07,174 - climada.entity.exposures.base - INFO - centr_ not set.\n",
      "2020-07-02 12:57:07,174 - climada.entity.exposures.base - INFO - deductible not set.\n",
      "2020-07-02 12:57:07,174 - climada.entity.exposures.base - INFO - cover not set.\n",
      "2020-07-02 12:57:07,175 - climada.entity.exposures.base - INFO - category_id not set.\n",
      "2020-07-02 12:57:07,175 - climada.entity.exposures.base - INFO - region_id not set.\n"
     ]
    }
   ],
   "source": [
    "#import filtered exposures\n",
    "hydro = pd.read_excel('exposures/hydro_exposures.xlsx', index_col=0)\n",
    "hydro = Exposures(hydro)\n",
    "hydro.set_geometry_points()\n",
    "hydro.check()\n",
    "\n",
    "nuclear = pd.read_excel('exposures/nuclear_exposures.xlsx', index_col=0)\n",
    "nuclear = Exposures(nuclear)\n",
    "nuclear.set_geometry_points()\n",
    "\n",
    "nuclear.check()"
   ]
  },
  {
   "cell_type": "code",
   "execution_count": 11,
   "metadata": {},
   "outputs": [],
   "source": [
    "# function to get impact functions\n",
    "def init_IFS_linear(s):\n",
    "    \"\"\"define impact function imp_fun and return impact function set (IFS)\"\"\"\n",
    "    x0 = np.linspace(1,600,100)\n",
    "    imp_fun = ImpactFunc()\n",
    "    imp_fun.haz_type = 'LF'\n",
    "    imp_fun.id = 1\n",
    "    imp_fun.name = 'Low flow business interruption'\n",
    "    imp_fun.intensity_unit = 'days'\n",
    "    imp_fun.intensity = x0\n",
    "    imp_fun.mdd = s*x0\n",
    "    imp_fun.mdd[imp_fun.mdd>1]=1\n",
    "    if s<=1/365:\n",
    "        imp_fun.mdd[imp_fun.intensity>365] = s*x0[imp_fun.intensity>365]    \n",
    "    else:\n",
    "        imp_fun.mdd[imp_fun.intensity>365] = 1/365*x0[imp_fun.intensity>365]  \n",
    "\n",
    " # loss to annual operation\n",
    "    imp_fun.paa = imp_fun.intensity * 0 + 1\n",
    "   \n",
    "    #imp_fun.paa[imp_fun.intensity<mdm] = 0\n",
    "    imp_fun.check()\n",
    "    IFS = ImpactFuncSet()\n",
    "    IFS.append(imp_fun)\n",
    "    return IFS\n",
    "\n",
    "historical_data = pd.read_excel('historical_impacts_isimip2a.xlsx')\n"
   ]
  },
  {
   "cell_type": "code",
   "execution_count": 13,
   "metadata": {},
   "outputs": [],
   "source": [
    "## function load hazards with only the parameters that we want to vary here\n",
    "\n",
    "def make_hazard(percentile,yearrange,gh_model,cl_model,bbox):\n",
    "    input_dir = '../data/isimip_data/'\n",
    "\n",
    "    min_days_per_month = 5\n",
    "\n",
    "    fn_str_var= 'co2_dis_global_daily'\n",
    "    scenario = 'hist'\n",
    "    soc = 'pressoc'\n",
    "    yearrange_ref=[1981,2005]\n",
    "    min_intensity=5\n",
    "    min_number_cells=16\n",
    "\n",
    "    hazard = LowFlow()\n",
    "    hazard.set_from_nc(percentile=percentile, input_dir=input_dir, yearrange=yearrange,yearrange_ref=yearrange_ref,bbox = bbox, gh_model=gh_model,\\\n",
    "                            cl_model=cl_model,  bias_correction = 'ewembi',scenario=scenario, scenario_ref=scenario, soc=soc, soc_ref=soc, keep_dis_data = True, min_days_per_month=min_days_per_month,\\\n",
    "                                min_intensity=min_intensity, min_number_cells=min_number_cells)\n",
    "    hazard.check()\n",
    "    return hazard"
   ]
  },
  {
   "cell_type": "code",
   "execution_count": 19,
   "metadata": {
    "scrolled": true
   },
   "outputs": [],
   "source": [
    "#input_dir = '../data/isimip_data/'\n",
    "#min_days_per_month = 5\n",
    "#percentile = 2.5\n",
    "#fn_str_var= 'co2_dis_global_daily'\n",
    "#scenario = 'hist'\n",
    "#soc = 'pressoc'\n",
    "#yearrange = [1990,2010]\n",
    "#yearrange_ref=[1981,2005]\n",
    "#bbox = [-15,30,50,72]\n",
    "#min_intensity=5\n",
    "#min_number_cells=16\n",
    "\n",
    "#for percentile in [2.5,10]:\n",
    "#    for gh_model in ['lpjml']: #matsiro does not have any data for soc='pressoc'\n",
    "#        for cl_model in ['gswp3', 'wfdei']:\n",
    "\n",
    "#            hazard = LowFlow()\n",
    "#            hazard.set_from_nc(percentile=percentile, input_dir=input_dir, yearrange=yearrange,yearrange_ref=yearrange_ref,bbox = bbox, gh_model=gh_model,\\\n",
    "#                                    cl_model=cl_model,  bias_correction = 'nobc',scenario=scenario, scenario_ref=scenario, soc=soc, soc_ref=soc, keep_dis_data = True, min_days_per_month=min_days_per_month,\\\n",
    "#                                        min_intensity=min_intensity, min_number_cells=min_number_cells)\n",
    "#            hazard.check()\n",
    "#            hazard.write_hdf5('_'.join(['hazards/low_flow','europe',str(yearrange[0]),str(yearrange[1]),str(percentile),gh_model,cl_model,'.h5']))\n",
    "\n",
    "   "
   ]
  },
  {
   "cell_type": "code",
   "execution_count": null,
   "metadata": {},
   "outputs": [],
   "source": [
    "\n",
    "#for percentile in [2.5,10]:\n",
    "#    for gh_model in ['h08']: #matsiro does not have any data for soc='pressoc'\n",
    "#        for cl_model in ['gswp3','princeton']:\n",
    "\n",
    "#            hazard = LowFlow()\n",
    "#            hazard.set_from_nc(percentile=percentile, input_dir=input_dir, yearrange=yearrange,yearrange_ref=yearrange_ref,bbox = bbox, gh_model=gh_model,\\\n",
    "#                                    cl_model=cl_model,  bias_correction = 'nobc',scenario=scenario, scenario_ref=scenario, soc=soc, soc_ref=soc, keep_dis_data = True, min_days_per_month=min_days_per_month,\\\n",
    "#                                        min_intensity=min_intensity, min_number_cells=min_number_cells)\n",
    "#            hazard.check()\n",
    "#            hazard.write_hdf5('_'.join(['hazards/low_flow','europe',str(yearrange[0]),str(yearrange[1]),str(percentile),gh_model,cl_model,'.h5']))\n",
    "\n",
    "   "
   ]
  },
  {
   "cell_type": "markdown",
   "metadata": {},
   "source": [
    "# First testing some individual events"
   ]
  },
  {
   "cell_type": "code",
   "execution_count": 27,
   "metadata": {},
   "outputs": [
    {
     "name": "stdout",
     "output_type": "stream",
     "text": [
      "2020-07-02 13:38:01,728 - climada.hazard.base - INFO - Reading hazards/low_flow_europe_1990_2010_2.5_lpjml_gswp3.h5\n",
      "2020-07-02 13:38:01,738 - climada.hazard.base - INFO - Reading hazards/low_flow_europe_1990_2010_10_h08_gswp3.h5\n"
     ]
    }
   ],
   "source": [
    "# get data for one climate and hydro model\n",
    "hazard_2_5 = LowFlow()\n",
    "hazard_2_5.read_hdf5('hazards/low_flow_europe_1990_2010_2.5_lpjml_gswp3.h5')\n",
    "hazard_2_5.check()\n",
    "\n",
    "hazard_10 = LowFlow()\n",
    "hazard_10.read_hdf5('hazards/low_flow_europe_1990_2010_10_h08_gswp3.h5')\n",
    "hazard_10.check()\n"
   ]
  },
  {
   "cell_type": "markdown",
   "metadata": {},
   "source": [
    "# Spain 2005 Drought\n",
    "\n",
    "In Spain, the 2005 drought led to a reduction of 36% in national hydroelectric power\n",
    "production (equivalent to 12 876 GWh), with respect to the past five year average. The\n",
    "decrease in hydraulic and nuclear production has been compensated by an increase in fuel-gas\n",
    "plant production and combined cycles that increased their production by respectively 28% and\n",
    "66%, compared to 2004. This extra production led to an additional cost of 713 Mio €. \n",
    "source: https://ec.europa.eu/environment/water/quantity/pdf/comm_droughts/2nd_int_report.pdf p.45"
   ]
  },
  {
   "cell_type": "code",
   "execution_count": 38,
   "metadata": {},
   "outputs": [
    {
     "name": "stdout",
     "output_type": "stream",
     "text": [
      "2020-07-02 13:39:36,844 - climada.entity.exposures.base - INFO - crs set to default value: {'init': 'epsg:4326', 'no_defs': True}\n",
      "2020-07-02 13:39:36,845 - climada.entity.exposures.base - INFO - Hazard type not set in if_\n",
      "2020-07-02 13:39:36,845 - climada.entity.exposures.base - INFO - centr_ not set.\n",
      "2020-07-02 13:39:36,846 - climada.entity.exposures.base - INFO - deductible not set.\n",
      "2020-07-02 13:39:36,846 - climada.entity.exposures.base - INFO - cover not set.\n",
      "2020-07-02 13:39:36,846 - climada.entity.exposures.base - INFO - category_id not set.\n",
      "2020-07-02 13:39:36,847 - climada.entity.exposures.base - INFO - region_id not set.\n",
      "2020-07-02 13:39:36,851 - climada.entity.exposures.base - INFO - Matching 124 exposures with 10920 centroids.\n",
      "2020-07-02 13:39:36,888 - climada.util.interpolation - WARNING - Distance to closest centroid is greater than 100km for 1 coordinates.\n",
      "2020-07-02 13:39:36,890 - climada.engine.impact - INFO - Calculating damage for 123 assets (>0) and 15 events.\n",
      "34.15185226053404\n"
     ]
    }
   ],
   "source": [
    "date0 = '2005-01-01'\n",
    "daten = '2006-01-01' \n",
    "hazard_2_5.select(date=(date0,daten))\n",
    "hazard_10.select(date=(date0,daten))\n",
    "\n",
    "hydro_spain = hydro[hydro['country']=='ESP']\n",
    "hydro_spain = Exposures(hydro_spain)\n",
    "hydro_spain.check()\n",
    "\n",
    "date0 = '2005-01-01'\n",
    "daten = '2006-01-01' \n",
    "\n",
    "IFS_lf = init_IFS_linear(0.5)\n",
    "\n",
    "imp_spain_2005 = Impact()\n",
    "imp_spain_2005.calc(hydro_spain, IFS_lf, hazard_2_5.select(date=(date0,daten)))\n",
    "print(imp_spain_2005.at_event.sum()/(imp_spain_2005.tot_value)*100)"
   ]
  },
  {
   "cell_type": "code",
   "execution_count": 39,
   "metadata": {},
   "outputs": [
    {
     "name": "stdout",
     "output_type": "stream",
     "text": [
      "2020-07-02 13:39:46,285 - climada.engine.impact - INFO - Exposures matching centroids found in centr_LF\n",
      "2020-07-02 13:39:46,286 - climada.engine.impact - INFO - Calculating damage for 123 assets (>0) and 12 events.\n",
      "36.1919851202609\n"
     ]
    }
   ],
   "source": [
    "\n",
    "IFS_lf = init_IFS_linear(0.014)\n",
    "\n",
    "date0 = '2005-01-01'\n",
    "daten = '2006-01-01' \n",
    "imp_spain_2005 = Impact()\n",
    "imp_spain_2005.calc(hydro_spain, IFS_lf, hazard_10.select(date=(date0,daten)))\n",
    "print(imp_spain_2005.at_event.sum()/(imp_spain_2005.tot_value)*100)"
   ]
  },
  {
   "cell_type": "code",
   "execution_count": 40,
   "metadata": {},
   "outputs": [
    {
     "data": {
      "text/plain": [
       "<matplotlib.axes._subplots.AxesSubplot at 0x7ff8c8926400>"
      ]
     },
     "execution_count": 40,
     "metadata": {},
     "output_type": "execute_result"
    },
    {
     "data": {
      "image/png": "[encoded data removed]",
      "text/plain": [
       "<Figure size 432x288 with 1 Axes>"
      ]
     },
     "metadata": {
      "needs_background": "light"
     },
     "output_type": "display_data"
    }
   ],
   "source": [
    "IFS_lf.plot() "
   ]
  },
  {
   "cell_type": "markdown",
   "metadata": {},
   "source": [
    "### Appears to work with the 10th percentile but the steepness of the impact function doesn't seem very realistic"
   ]
  },
  {
   "cell_type": "markdown",
   "metadata": {},
   "source": [
    "## Germany 2003 ->11% loss of production"
   ]
  },
  {
   "cell_type": "code",
   "execution_count": 43,
   "metadata": {},
   "outputs": [
    {
     "name": "stdout",
     "output_type": "stream",
     "text": [
      "2020-07-02 13:40:20,016 - climada.entity.exposures.base - INFO - crs set to default value: {'init': 'epsg:4326', 'no_defs': True}\n",
      "2020-07-02 13:40:20,017 - climada.entity.exposures.base - INFO - Hazard type not set in if_\n",
      "2020-07-02 13:40:20,018 - climada.entity.exposures.base - INFO - centr_ not set.\n",
      "2020-07-02 13:40:20,019 - climada.entity.exposures.base - INFO - deductible not set.\n",
      "2020-07-02 13:40:20,020 - climada.entity.exposures.base - INFO - cover not set.\n",
      "2020-07-02 13:40:20,020 - climada.entity.exposures.base - INFO - category_id not set.\n",
      "2020-07-02 13:40:20,021 - climada.entity.exposures.base - INFO - region_id not set.\n",
      "2020-07-02 13:40:20,024 - climada.entity.exposures.base - INFO - Matching 5 exposures with 10920 centroids.\n",
      "2020-07-02 13:40:20,034 - climada.engine.impact - INFO - Calculating damage for 5 assets (>0) and 13 events.\n",
      "11.686543035783343\n"
     ]
    }
   ],
   "source": [
    "nuclear_germany = nuclear[nuclear['country_long']=='Germany']\n",
    "nuclear_germany = Exposures(nuclear_germany)\n",
    "nuclear_germany.check()\n",
    "\n",
    "date0 = '2003-01-01'\n",
    "daten = '2004-01-01' \n",
    "\n",
    "IFS_lf = init_IFS_linear(0.003)\n",
    "\n",
    "imp_germany_2003 = Impact()\n",
    "imp_germany_2003.calc(nuclear_germany, IFS_lf, hazard_2_5.select(date=(date0,daten)))\n",
    "print(imp_germany_2003.at_event.sum()/(imp_germany_2003.tot_value)*100)"
   ]
  },
  {
   "cell_type": "markdown",
   "metadata": {},
   "source": [
    "### looks much better"
   ]
  },
  {
   "cell_type": "markdown",
   "metadata": {},
   "source": [
    "## checking 'normal' yrs for nuclear in germany"
   ]
  },
  {
   "cell_type": "code",
   "execution_count": 46,
   "metadata": {
    "scrolled": true
   },
   "outputs": [
    {
     "name": "stdout",
     "output_type": "stream",
     "text": [
      "2020-07-02 13:40:44,432 - climada.entity.exposures.base - INFO - crs set to default value: {'init': 'epsg:4326', 'no_defs': True}\n",
      "2020-07-02 13:40:44,433 - climada.entity.exposures.base - INFO - Hazard type not set in if_\n",
      "2020-07-02 13:40:44,433 - climada.entity.exposures.base - INFO - centr_ not set.\n",
      "2020-07-02 13:40:44,433 - climada.entity.exposures.base - INFO - deductible not set.\n",
      "2020-07-02 13:40:44,434 - climada.entity.exposures.base - INFO - cover not set.\n",
      "2020-07-02 13:40:44,434 - climada.entity.exposures.base - INFO - category_id not set.\n",
      "2020-07-02 13:40:44,434 - climada.entity.exposures.base - INFO - region_id not set.\n",
      "2020-07-02 13:40:44,438 - climada.entity.exposures.base - INFO - Matching 5 exposures with 10920 centroids.\n",
      "2020-07-02 13:40:44,447 - climada.engine.impact - INFO - Calculating damage for 5 assets (>0) and 108 events.\n",
      "4.363540931807163\n"
     ]
    }
   ],
   "source": [
    "nuclear_germany = nuclear[nuclear['country_long']=='Germany']\n",
    "nuclear_germany = Exposures(nuclear_germany)\n",
    "nuclear_germany.check()\n",
    "\n",
    "date0 = '1990-01-01'\n",
    "daten = '2000-01-01' \n",
    "\n",
    "IFS_lf = init_IFS_linear(0.007)\n",
    "\n",
    "imp_germany_2004_2010 = Impact()\n",
    "imp_germany_2004_2010.calc(nuclear_germany, IFS_lf, hazard_2_5.select(date=(date0,daten)))\n",
    "print(imp_germany_2004_2010.at_event.sum()/(imp_germany_2004_2010.tot_value*10)*100)"
   ]
  },
  {
   "cell_type": "markdown",
   "metadata": {},
   "source": [
    "# France 2003 & 2006\n",
    "\n",
    "## Les pertes de production ont atteint 5,5 TWh en 2003 et 2,5 TWh en 2006\n",
    "https://www.sfen.org/rgn/adapter-centrales-nucleaires-changement-climatique"
   ]
  },
  {
   "cell_type": "code",
   "execution_count": 49,
   "metadata": {
    "scrolled": true
   },
   "outputs": [
    {
     "name": "stdout",
     "output_type": "stream",
     "text": [
      "2020-07-02 13:41:04,127 - climada.entity.exposures.base - INFO - crs set to default value: {'init': 'epsg:4326', 'no_defs': True}\n",
      "2020-07-02 13:41:04,130 - climada.entity.exposures.base - INFO - Hazard type not set in if_\n",
      "2020-07-02 13:41:04,131 - climada.entity.exposures.base - INFO - centr_ not set.\n",
      "2020-07-02 13:41:04,132 - climada.entity.exposures.base - INFO - deductible not set.\n",
      "2020-07-02 13:41:04,134 - climada.entity.exposures.base - INFO - cover not set.\n",
      "2020-07-02 13:41:04,134 - climada.entity.exposures.base - INFO - category_id not set.\n",
      "2020-07-02 13:41:04,135 - climada.entity.exposures.base - INFO - region_id not set.\n",
      "2020-07-02 13:41:04,143 - climada.entity.exposures.base - INFO - Matching 14 exposures with 10920 centroids.\n",
      "2020-07-02 13:41:04,159 - climada.engine.impact - INFO - Calculating damage for 14 assets (>0) and 13 events.\n",
      "5.981567464723585\n"
     ]
    }
   ],
   "source": [
    "nuclear_france = nuclear[nuclear['country_long']=='France']\n",
    "nuclear_france = Exposures(nuclear_france)\n",
    "nuclear_france.check()\n",
    "\n",
    "date0 = '2003-01-01'\n",
    "daten = '2004-01-01' \n",
    "\n",
    "IFS_lf = init_IFS_linear(0.0006)\n",
    "\n",
    "imp_france_2003 = Impact()\n",
    "imp_france_2003.calc(nuclear_france, IFS_lf, hazard_2_5.select(date=(date0,daten)))\n",
    "print(imp_france_2003.at_event.sum()/1000) #(/1000 because the data is in GWh)"
   ]
  },
  {
   "cell_type": "code",
   "execution_count": 50,
   "metadata": {},
   "outputs": [
    {
     "data": {
      "text/plain": [
       "<matplotlib.axes._subplots.AxesSubplot at 0x7ff8c82a1048>"
      ]
     },
     "execution_count": 50,
     "metadata": {},
     "output_type": "execute_result"
    },
    {
     "data": {
      "image/png": "[encoded data removed]",
      "text/plain": [
       "<Figure size 432x288 with 1 Axes>"
      ]
     },
     "metadata": {
      "needs_background": "light"
     },
     "output_type": "display_data"
    }
   ],
   "source": [
    "IFS_lf.plot() #very flat"
   ]
  },
  {
   "cell_type": "code",
   "execution_count": 52,
   "metadata": {
    "scrolled": true
   },
   "outputs": [
    {
     "name": "stdout",
     "output_type": "stream",
     "text": [
      "2020-07-02 13:41:12,488 - climada.entity.exposures.base - INFO - crs set to default value: {'init': 'epsg:4326', 'no_defs': True}\n",
      "2020-07-02 13:41:12,489 - climada.entity.exposures.base - INFO - Hazard type not set in if_\n",
      "2020-07-02 13:41:12,489 - climada.entity.exposures.base - INFO - centr_ not set.\n",
      "2020-07-02 13:41:12,489 - climada.entity.exposures.base - INFO - deductible not set.\n",
      "2020-07-02 13:41:12,490 - climada.entity.exposures.base - INFO - cover not set.\n",
      "2020-07-02 13:41:12,490 - climada.entity.exposures.base - INFO - category_id not set.\n",
      "2020-07-02 13:41:12,490 - climada.entity.exposures.base - INFO - region_id not set.\n",
      "2020-07-02 13:41:12,494 - climada.entity.exposures.base - INFO - Matching 14 exposures with 10920 centroids.\n",
      "2020-07-02 13:41:12,506 - climada.engine.impact - INFO - Calculating damage for 14 assets (>0) and 10 events.\n",
      "0.0\n"
     ]
    }
   ],
   "source": [
    "nuclear_france = nuclear[nuclear['country_long']=='France']\n",
    "nuclear_france = Exposures(nuclear_france)\n",
    "nuclear_france.check()\n",
    "\n",
    "date0 = '2006-01-01'\n",
    "daten = '2007-01-01' \n",
    "\n",
    "IFS_lf = init_IFS_linear(0.002)\n",
    "\n",
    "imp_france_2006_2007 = Impact()\n",
    "imp_france_2006_2007.calc(nuclear_france, IFS_lf, hazard_2_5.select(date=(date0,daten)))\n",
    "print(imp_france_2006_2007.at_event.sum()/1000)"
   ]
  },
  {
   "cell_type": "markdown",
   "metadata": {},
   "source": [
    "# Europe 2003 6.6% loss hydro, 4.7% nuclear"
   ]
  },
  {
   "cell_type": "code",
   "execution_count": 60,
   "metadata": {
    "scrolled": false
   },
   "outputs": [
    {
     "name": "stdout",
     "output_type": "stream",
     "text": [
      "2020-07-02 13:42:12,838 - climada.engine.impact - INFO - Exposures matching centroids found in centr_LF\n",
      "2020-07-02 13:42:12,839 - climada.engine.impact - INFO - Calculating damage for 46 assets (>0) and 13 events.\n",
      "4.541847053880298\n"
     ]
    }
   ],
   "source": [
    "#nuclear\n",
    "date0 = '2003-01-01'\n",
    "daten = '2004-01-01' \n",
    "\n",
    "IFS_lf = init_IFS_linear(0.002)\n",
    "\n",
    "imp_eu_2003 = Impact()\n",
    "imp_eu_2003.calc(nuclear, IFS_lf, hazard_2_5.select(date=(date0,daten)))\n",
    "print(imp_eu_2003.at_event.sum()/(imp_eu_2003.tot_value)*100)"
   ]
  },
  {
   "cell_type": "code",
   "execution_count": 59,
   "metadata": {
    "scrolled": true
   },
   "outputs": [
    {
     "name": "stdout",
     "output_type": "stream",
     "text": [
      "2020-07-02 13:42:02,235 - climada.engine.impact - INFO - Exposures matching centroids found in centr_LF\n",
      "2020-07-02 13:42:02,238 - climada.engine.impact - INFO - Calculating damage for 2092 assets (>0) and 13 events.\n",
      "5.126178520958528\n"
     ]
    }
   ],
   "source": [
    "#hydro\n",
    "date0 = '2003-01-01'\n",
    "daten = '2004-01-01' \n",
    "\n",
    "IFS_lf = init_IFS_linear(0.004)\n",
    "\n",
    "imp_eu_2003 = Impact()\n",
    "imp_eu_2003.calc(hydro, IFS_lf, hazard_2_5.select(date=(date0,daten)))\n",
    "print(imp_eu_2003.at_event.sum()/(imp_eu_2003.tot_value)*100)"
   ]
  },
  {
   "cell_type": "markdown",
   "metadata": {},
   "source": [
    "# now making a function which looks for the right slope of the impact function of each event for given gh model/ cl model"
   ]
  },
  {
   "cell_type": "code",
   "execution_count": 68,
   "metadata": {},
   "outputs": [],
   "source": [
    "\n",
    "def if_finder(historical_data, hazard, exposures, input_dir=None, centroids=None,\n",
    "                    bbox=None, percentile=2.5, min_intensity=5, min_number_cells=16,\n",
    "                    min_days_per_month=5, yearrange_ref=[1981,2010],\n",
    "                    gh_model='h08', cl_model='gswp3',\n",
    "                    scenario='hist', scenario_ref='hist', soc='pressoc', \\\n",
    "                    fn_str_var='co2_dis_global_daily', bias_correction = 'nobc'):\n",
    "    \n",
    "    \n",
    "    \n",
    "    energies = historical_data['Energy'].unique()\n",
    "   \n",
    "    slope_list = []\n",
    "    for index, row in historical_data.iterrows():\n",
    "        year0 = historical_data['date0'][index].year\n",
    "        yearn = historical_data['daten'][index].year\n",
    "        yearrange = [year0,yearn]\n",
    "        exposuresn = exposures[historical_data['Energy'][index]]\n",
    "        country = historical_data['Country'][index].split(',')\n",
    "        exposuresn = exposuresn[exposuresn.country_long.isin(country)]\n",
    "        exposuresn = Exposures(exposuresn)\n",
    "        exposuresn.check()\n",
    "        hazardn = hazard.select(date=(historical_data['date0'][index].toordinal(),historical_data['daten'][index].toordinal()))\n",
    "        slope=0.0005\n",
    "        impacts_sum = 0\n",
    "        while historical_data['loss'][index]>impacts_sum:\n",
    "            print(impacts_sum)\n",
    "            slope = slope + 0.0005\n",
    "            if slope > 0.01: # break in case the slope becomes too large to make sense\n",
    "                slope = 'NA'\n",
    "                break\n",
    "            impact_function = init_IFS_linear(slope)\n",
    "            impact = Impact()\n",
    "            impact.calc(exposuresn, impact_function, hazardn)\n",
    "            if historical_data['unit'][index]=='percentage':\n",
    "                impacts_sum = impact.at_event.sum()/(impact.tot_value*(yearn-year0))*100\n",
    "            else:\n",
    "                impacts_sum = impact.at_event.sum()\n",
    "        slope_list.append(slope)\n",
    "    historical_data[\"_\".join(['slope_if',gh_model,cl_model])] = slope_list\n",
    "    return(historical_data)\n",
    "   "
   ]
  },
  {
   "cell_type": "code",
   "execution_count": null,
   "metadata": {},
   "outputs": [],
   "source": [
    "historical_data = pd.read_excel('historical_impacts_isimip2a.xlsx', index_col=0)\n",
    "\n",
    "input_dir = '../data/isimip_data/'\n",
    "year0 = np.min(historical_data['date0']).year\n",
    "yearn = np.max(historical_data['daten']).year\n",
    "yearrange=[year0,yearn]\n",
    "\n",
    "\n",
    "min_days_per_month = 5\n",
    "percentile = 2.5\n",
    "#gh_model = 'h08'\n",
    "cl_model = 'gswp3'\n",
    "fn_str_var= 'co2_dis_global_daily'\n",
    "scenario = 'hist'\n",
    "soc = 'pressoc'\n",
    "yearrange_ref=[1981,2005]\n",
    "bbox = [-15,30,50,72]\n",
    "min_intensity=5\n",
    "min_number_cells=16\n",
    "\n",
    "exposures = {'Hydro': hydro, 'Nuclear': nuclear}\n",
    "\n",
    "for gh_model in ['lpjml']: #matsiro does not have any data for soc='pressoc'\n",
    "    for cl_model in ['gswp3','wfdei']:\n",
    "        \n",
    "        print(gh_model)\n",
    "        hazard = LowFlow()\n",
    "        hazard.read_hdf5(\"\".join(['hazards/low_flow_europe_1990_2010_2.5_', gh_model, '_', cl_model, '.h5']))\n",
    "        hazard.check()\n",
    "\n",
    "        historical_data = if_finder(historical_data.loc[0:12], hazard, exposures, input_dir=input_dir, bbox=bbox, gh_model=gh_model,cl_model=cl_model)\n",
    "for gh_model in ['h08']: #matsiro does not have any data for soc='pressoc'\n",
    "    for cl_model in ['gswp3','princeton']:\n",
    "\n",
    "        print(gh_model)\n",
    "        hazard = LowFlow()\n",
    "        hazard.read_hdf5(\"\".join(['hazards/low_flow_europe_1990_2010_2.5_', gh_model, '_', cl_model, '.h5']))\n",
    "        hazard.check()\n",
    "\n",
    "        historical_data = if_finder(historical_data.loc[0:12], hazard, exposures, input_dir=input_dir, bbox=bbox, gh_model=gh_model,cl_model=cl_model)\n",
    "\n",
    "\n"
   ]
  },
  {
   "cell_type": "code",
   "execution_count": 4,
   "metadata": {
    "scrolled": true
   },
   "outputs": [],
   "source": [
    "historical_data['if_slope'] = historical_data.replace('NA',float('nan')).iloc[:,8:12].mean(axis=1)"
   ]
  },
  {
   "cell_type": "code",
   "execution_count": 25,
   "metadata": {
    "scrolled": true
   },
   "outputs": [
    {
     "data": {
      "text/html": [
       "<div>\n",
       "<style scoped>\n",
       "    .dataframe tbody tr th:only-of-type {\n",
       "        vertical-align: middle;\n",
       "    }\n",
       "\n",
       "    .dataframe tbody tr th {\n",
       "        vertical-align: top;\n",
       "    }\n",
       "\n",
       "    .dataframe thead th {\n",
       "        text-align: right;\n",
       "    }\n",
       "</style>\n",
       "<table border=\"1\" class=\"dataframe\">\n",
       "  <thead>\n",
       "    <tr style=\"text-align: right;\">\n",
       "      <th></th>\n",
       "      <th>Energy</th>\n",
       "      <th>Country</th>\n",
       "      <th>date0</th>\n",
       "      <th>daten</th>\n",
       "      <th>loss</th>\n",
       "      <th>unit</th>\n",
       "      <th>slope_if_lpjml_gswp3</th>\n",
       "      <th>slope_if_h08_gswp3</th>\n",
       "      <th>slope_if_h08_princeton</th>\n",
       "      <th>slope_if_lpjml_wfdei</th>\n",
       "      <th>if_slope</th>\n",
       "    </tr>\n",
       "  </thead>\n",
       "  <tbody>\n",
       "    <tr>\n",
       "      <th>0</th>\n",
       "      <td>Hydro</td>\n",
       "      <td>Portugal</td>\n",
       "      <td>2005-01-01</td>\n",
       "      <td>2006-01-01</td>\n",
       "      <td>21.0</td>\n",
       "      <td>percentage</td>\n",
       "      <td>NaN</td>\n",
       "      <td>NaN</td>\n",
       "      <td>NaN</td>\n",
       "      <td>0.003</td>\n",
       "      <td>NaN</td>\n",
       "    </tr>\n",
       "    <tr>\n",
       "      <th>1</th>\n",
       "      <td>Hydro</td>\n",
       "      <td>Spain</td>\n",
       "      <td>2005-01-01</td>\n",
       "      <td>2006-01-01</td>\n",
       "      <td>37.5</td>\n",
       "      <td>percentage</td>\n",
       "      <td>NaN</td>\n",
       "      <td>NaN</td>\n",
       "      <td>NaN</td>\n",
       "      <td>NaN</td>\n",
       "      <td>NaN</td>\n",
       "    </tr>\n",
       "    <tr>\n",
       "      <th>2</th>\n",
       "      <td>Hydro</td>\n",
       "      <td>France</td>\n",
       "      <td>2005-01-01</td>\n",
       "      <td>2006-01-01</td>\n",
       "      <td>10000.0</td>\n",
       "      <td>Gwh</td>\n",
       "      <td>NaN</td>\n",
       "      <td>0.003</td>\n",
       "      <td>0.003</td>\n",
       "      <td>0.003</td>\n",
       "      <td>0.0030</td>\n",
       "    </tr>\n",
       "    <tr>\n",
       "      <th>3</th>\n",
       "      <td>Hydro</td>\n",
       "      <td>Albania</td>\n",
       "      <td>2003-01-01</td>\n",
       "      <td>2004-01-01</td>\n",
       "      <td>33.0</td>\n",
       "      <td>percentage</td>\n",
       "      <td>NaN</td>\n",
       "      <td>NaN</td>\n",
       "      <td>NaN</td>\n",
       "      <td>NaN</td>\n",
       "      <td>NaN</td>\n",
       "    </tr>\n",
       "    <tr>\n",
       "      <th>4</th>\n",
       "      <td>Hydro</td>\n",
       "      <td>Spain</td>\n",
       "      <td>2004-01-01</td>\n",
       "      <td>2008-01-01</td>\n",
       "      <td>17.0</td>\n",
       "      <td>percentage</td>\n",
       "      <td>NaN</td>\n",
       "      <td>NaN</td>\n",
       "      <td>NaN</td>\n",
       "      <td>NaN</td>\n",
       "      <td>NaN</td>\n",
       "    </tr>\n",
       "    <tr>\n",
       "      <th>5</th>\n",
       "      <td>Hydro</td>\n",
       "      <td>Finland, Sweden, Norway</td>\n",
       "      <td>2002-01-01</td>\n",
       "      <td>2003-01-01</td>\n",
       "      <td>7.8</td>\n",
       "      <td>percentage</td>\n",
       "      <td>0.007</td>\n",
       "      <td>0.002</td>\n",
       "      <td>0.002</td>\n",
       "      <td>NaN</td>\n",
       "      <td>0.0045</td>\n",
       "    </tr>\n",
       "    <tr>\n",
       "      <th>6</th>\n",
       "      <td>Hydro</td>\n",
       "      <td>Finland, Sweden, Norway</td>\n",
       "      <td>1996-01-01</td>\n",
       "      <td>1997-01-01</td>\n",
       "      <td>21.3</td>\n",
       "      <td>percentage</td>\n",
       "      <td>NaN</td>\n",
       "      <td>0.006</td>\n",
       "      <td>0.004</td>\n",
       "      <td>NaN</td>\n",
       "      <td>0.0060</td>\n",
       "    </tr>\n",
       "    <tr>\n",
       "      <th>7</th>\n",
       "      <td>Hydro</td>\n",
       "      <td>Spain</td>\n",
       "      <td>1992-01-01</td>\n",
       "      <td>1994-01-01</td>\n",
       "      <td>14.5</td>\n",
       "      <td>percentage</td>\n",
       "      <td>NaN</td>\n",
       "      <td>NaN</td>\n",
       "      <td>NaN</td>\n",
       "      <td>NaN</td>\n",
       "      <td>NaN</td>\n",
       "    </tr>\n",
       "    <tr>\n",
       "      <th>8</th>\n",
       "      <td>Nuclear</td>\n",
       "      <td>France</td>\n",
       "      <td>2003-01-01</td>\n",
       "      <td>2004-01-01</td>\n",
       "      <td>5500.0</td>\n",
       "      <td>Gwh</td>\n",
       "      <td>0.002</td>\n",
       "      <td>0.002</td>\n",
       "      <td>0.002</td>\n",
       "      <td>NaN</td>\n",
       "      <td>0.0020</td>\n",
       "    </tr>\n",
       "    <tr>\n",
       "      <th>9</th>\n",
       "      <td>Nuclear</td>\n",
       "      <td>France</td>\n",
       "      <td>2006-01-01</td>\n",
       "      <td>2007-01-01</td>\n",
       "      <td>2500.0</td>\n",
       "      <td>Gwh</td>\n",
       "      <td>0.002</td>\n",
       "      <td>0.002</td>\n",
       "      <td>0.002</td>\n",
       "      <td>0.002</td>\n",
       "      <td>0.0020</td>\n",
       "    </tr>\n",
       "    <tr>\n",
       "      <th>10</th>\n",
       "      <td>Nuclear</td>\n",
       "      <td>Germany</td>\n",
       "      <td>2003-01-01</td>\n",
       "      <td>2004-01-01</td>\n",
       "      <td>12.0</td>\n",
       "      <td>percentage</td>\n",
       "      <td>0.003</td>\n",
       "      <td>0.002</td>\n",
       "      <td>0.002</td>\n",
       "      <td>NaN</td>\n",
       "      <td>0.0025</td>\n",
       "    </tr>\n",
       "  </tbody>\n",
       "</table>\n",
       "</div>"
      ],
      "text/plain": [
       "     Energy                  Country      date0      daten     loss  \\\n",
       "0     Hydro                 Portugal 2005-01-01 2006-01-01     21.0   \n",
       "1     Hydro                    Spain 2005-01-01 2006-01-01     37.5   \n",
       "2     Hydro                   France 2005-01-01 2006-01-01  10000.0   \n",
       "3     Hydro                  Albania 2003-01-01 2004-01-01     33.0   \n",
       "4     Hydro                    Spain 2004-01-01 2008-01-01     17.0   \n",
       "5     Hydro  Finland, Sweden, Norway 2002-01-01 2003-01-01      7.8   \n",
       "6     Hydro  Finland, Sweden, Norway 1996-01-01 1997-01-01     21.3   \n",
       "7     Hydro                    Spain 1992-01-01 1994-01-01     14.5   \n",
       "8   Nuclear                   France 2003-01-01 2004-01-01   5500.0   \n",
       "9   Nuclear                   France 2006-01-01 2007-01-01   2500.0   \n",
       "10  Nuclear                  Germany 2003-01-01 2004-01-01     12.0   \n",
       "\n",
       "          unit  slope_if_lpjml_gswp3  slope_if_h08_gswp3  \\\n",
       "0   percentage                   NaN                 NaN   \n",
       "1   percentage                   NaN                 NaN   \n",
       "2          Gwh                   NaN               0.003   \n",
       "3   percentage                   NaN                 NaN   \n",
       "4   percentage                   NaN                 NaN   \n",
       "5   percentage                 0.007               0.002   \n",
       "6   percentage                   NaN               0.006   \n",
       "7   percentage                   NaN                 NaN   \n",
       "8          Gwh                 0.002               0.002   \n",
       "9          Gwh                 0.002               0.002   \n",
       "10  percentage                 0.003               0.002   \n",
       "\n",
       "    slope_if_h08_princeton  slope_if_lpjml_wfdei  if_slope  \n",
       "0                      NaN                 0.003       NaN  \n",
       "1                      NaN                   NaN       NaN  \n",
       "2                    0.003                 0.003    0.0030  \n",
       "3                      NaN                   NaN       NaN  \n",
       "4                      NaN                   NaN       NaN  \n",
       "5                    0.002                   NaN    0.0045  \n",
       "6                    0.004                   NaN    0.0060  \n",
       "7                      NaN                   NaN       NaN  \n",
       "8                    0.002                   NaN    0.0020  \n",
       "9                    0.002                 0.002    0.0020  \n",
       "10                   0.002                   NaN    0.0025  "
      ]
     },
     "execution_count": 25,
     "metadata": {},
     "output_type": "execute_result"
    }
   ],
   "source": [
    "historical_data\n"
   ]
  },
  {
   "cell_type": "code",
   "execution_count": 126,
   "metadata": {},
   "outputs": [
    {
     "data": {
      "text/plain": [
       "Text(0.5, 1.0, 'Hydro')"
      ]
     },
     "execution_count": 126,
     "metadata": {},
     "output_type": "execute_result"
    },
    {
     "data": {
      "image/png": "[encoded data removed]",
      "text/plain": [
       "<Figure size 432x288 with 1 Axes>"
      ]
     },
     "metadata": {
      "needs_background": "light"
     },
     "output_type": "display_data"
    }
   ],
   "source": [
    "x0 = np.linspace(0,400,20)\n",
    "fig,ax = plt.subplots()\n",
    "c=1\n",
    "\n",
    "\n",
    "\n",
    "for index, row in historical_data[historical_data['Energy']=='Hydro'].iterrows():\n",
    "                \n",
    "    for gh_model in ['h08']: #matsiro does not have any data for soc='pressoc'\n",
    "        for cl_model in ['gswp3','princeton']:    \n",
    "            if historical_data['_'.join(['slope_if',gh_model,cl_model])][index] !='NA':\n",
    "                ax.plot(x0,x0*historical_data['_'.join(['slope_if',gh_model,cl_model])][index]*100,color='Green')             \n",
    "\n",
    "    \n",
    "    \n",
    "    for gh_model in ['lpjml']: #matsiro does not have any data for soc='pressoc'\n",
    "        for cl_model in ['gswp3','wfdei']:    \n",
    "            if historical_data['_'.join(['slope_if',gh_model,cl_model])][index] !='NA':\n",
    "                ax.plot(x0,x0*historical_data['_'.join(['slope_if',gh_model,cl_model])][index]*100,color='Blue')             \n",
    "    \n",
    "ax.set_xlabel('days')\n",
    "ax.set_ylabel('loss(%)')\n",
    "ax.set_title('Hydro')\n",
    " #blue is lpjml, green h08, no noticable pattern"
   ]
  },
  {
   "cell_type": "code",
   "execution_count": 123,
   "metadata": {},
   "outputs": [
    {
     "data": {
      "text/plain": [
       "Text(0.5, 1.0, 'Nuclear')"
      ]
     },
     "execution_count": 123,
     "metadata": {},
     "output_type": "execute_result"
    },
    {
     "data": {
      "image/png": "[encoded data removed]",
      "text/plain": [
       "<Figure size 432x288 with 1 Axes>"
      ]
     },
     "metadata": {
      "needs_background": "light"
     },
     "output_type": "display_data"
    }
   ],
   "source": [
    "x0 = np.linspace(0,400,20)\n",
    "fig,ax = plt.subplots()\n",
    "for index, row in historical_data[historical_data['Energy']=='Nuclear'].iterrows():\n",
    "    for gh_model in ['lpjml']: #matsiro does not have any data for soc='pressoc'\n",
    "        for cl_model in ['gswp3','wfdei']:    \n",
    "            if historical_data['_'.join(['slope_if',gh_model,cl_model])][index] !='NA':\n",
    "                ax.plot(x0,x0*historical_data['_'.join(['slope_if',gh_model,cl_model])][index]*100, color ='Blue')\n",
    "                \n",
    "    for gh_model in ['h08']: #matsiro does not have any data for soc='pressoc'\n",
    "        for cl_model in ['gswp3','princeton']:    \n",
    "            if historical_data['_'.join(['slope_if',gh_model,cl_model])][index] !='NA':\n",
    "                ax.plot(x0,x0*historical_data['_'.join(['slope_if',gh_model,cl_model])][index]*100, color='Green')             \n",
    "\n",
    "ax.set_xlabel('days')\n",
    "ax.set_ylabel('loss(%)')\n",
    "ax.set_title('Nuclear')     "
   ]
  },
  {
   "cell_type": "code",
   "execution_count": 12,
   "metadata": {},
   "outputs": [
    {
     "data": {
      "text/plain": [
       "<matplotlib.axes._subplots.AxesSubplot at 0x7f7276e3d4e0>"
      ]
     },
     "execution_count": 12,
     "metadata": {},
     "output_type": "execute_result"
    },
    {
     "data": {
      "image/png": "[encoded data removed]",
      "text/plain": [
       "<Figure size 432x288 with 1 Axes>"
      ]
     },
     "metadata": {
      "needs_background": "light"
     },
     "output_type": "display_data"
    },
    {
     "data": {
      "image/png": "[encoded data removed]",
      "text/plain": [
       "<Figure size 432x288 with 1 Axes>"
      ]
     },
     "metadata": {
      "needs_background": "light"
     },
     "output_type": "display_data"
    }
   ],
   "source": [
    "IFS_hydro = init_IFS_linear(historical_data['if_slope'][historical_data['Energy']=='Hydro'].mean())\n",
    "IFS_thermo = init_IFS_linear(historical_data['if_slope'][historical_data['Energy']=='Nuclear'].mean())\n",
    "IFS_hydro.plot()\n",
    "IFS_thermo.plot()"
   ]
  },
  {
   "cell_type": "code",
   "execution_count": 111,
   "metadata": {},
   "outputs": [],
   "source": [
    "historical_data = pd.read_excel('historical_impacts_isimip2a.xlsx', index_col=0)\n",
    "\n",
    "isimip2a_isimip2b_slopes = pd.read_excel('slopes_isimip2a_isimip2b.xlsx', index_col=0)\n"
   ]
  },
  {
   "cell_type": "code",
   "execution_count": 127,
   "metadata": {},
   "outputs": [
    {
     "data": {
      "text/html": [
       "<div>\n",
       "<style scoped>\n",
       "    .dataframe tbody tr th:only-of-type {\n",
       "        vertical-align: middle;\n",
       "    }\n",
       "\n",
       "    .dataframe tbody tr th {\n",
       "        vertical-align: top;\n",
       "    }\n",
       "\n",
       "    .dataframe thead th {\n",
       "        text-align: right;\n",
       "    }\n",
       "</style>\n",
       "<table border=\"1\" class=\"dataframe\">\n",
       "  <thead>\n",
       "    <tr style=\"text-align: right;\">\n",
       "      <th></th>\n",
       "      <th>gh_model</th>\n",
       "      <th>thermo_isimip2a</th>\n",
       "      <th>hydro_isimip2a</th>\n",
       "      <th>thermo_isimip2b</th>\n",
       "      <th>hydro_isimip2b</th>\n",
       "    </tr>\n",
       "  </thead>\n",
       "  <tbody>\n",
       "    <tr>\n",
       "      <th>0</th>\n",
       "      <td>matsiro</td>\n",
       "      <td>NaN</td>\n",
       "      <td>NaN</td>\n",
       "      <td>0.000284</td>\n",
       "      <td>0.002569</td>\n",
       "    </tr>\n",
       "    <tr>\n",
       "      <th>1</th>\n",
       "      <td>h08</td>\n",
       "      <td>0.002333</td>\n",
       "      <td>0.004333</td>\n",
       "      <td>0.000560</td>\n",
       "      <td>0.002612</td>\n",
       "    </tr>\n",
       "    <tr>\n",
       "      <th>2</th>\n",
       "      <td>lpjml</td>\n",
       "      <td>0.002000</td>\n",
       "      <td>0.003333</td>\n",
       "      <td>0.000673</td>\n",
       "      <td>0.002995</td>\n",
       "    </tr>\n",
       "  </tbody>\n",
       "</table>\n",
       "</div>"
      ],
      "text/plain": [
       "  gh_model  thermo_isimip2a  hydro_isimip2a  thermo_isimip2b  hydro_isimip2b\n",
       "0  matsiro              NaN             NaN         0.000284        0.002569\n",
       "1      h08         0.002333        0.004333         0.000560        0.002612\n",
       "2    lpjml         0.002000        0.003333         0.000673        0.002995"
      ]
     },
     "execution_count": 127,
     "metadata": {},
     "output_type": "execute_result"
    }
   ],
   "source": [
    "isimip2a_isimip2b_slopes"
   ]
  },
  {
   "cell_type": "code",
   "execution_count": 108,
   "metadata": {},
   "outputs": [
    {
     "data": {
      "text/plain": [
       "0.004333333333333334"
      ]
     },
     "execution_count": 108,
     "metadata": {},
     "output_type": "execute_result"
    }
   ],
   "source": [
    "historical_data[['slope_if_lpjml_gswp3', 'slope_if_lpjml_wfdei']][historical_data['Energy']=='Hydro'].mean(axis=1).mean()"
   ]
  },
  {
   "cell_type": "code",
   "execution_count": 112,
   "metadata": {},
   "outputs": [],
   "source": [
    "isimip2a_isimip2b_slopes.loc[1,'hydro_isimip2a'] = historical_data[['slope_if_lpjml_gswp3', 'slope_if_lpjml_wfdei']][historical_data['Energy']=='Hydro'].mean(axis=1).mean()\n",
    "\n",
    "isimip2a_isimip2b_slopes.loc[1,'thermo_isimip2a'] = historical_data[['slope_if_lpjml_gswp3', 'slope_if_lpjml_wfdei']][historical_data['Energy']=='Nuclear'].mean(axis=1).mean()\n",
    "\n",
    "isimip2a_isimip2b_slopes.loc[2,'hydro_isimip2a'] = historical_data[['slope_if_h08_gswp3', 'slope_if_h08_princeton']][historical_data['Energy']=='Hydro'].mean(axis=1).mean()\n",
    "\n",
    "isimip2a_isimip2b_slopes.loc[2,'thermo_isimip2a'] = historical_data[['slope_if_h08_gswp3', 'slope_if_h08_princeton']][historical_data['Energy']=='Nuclear'].mean(axis=1).mean()"
   ]
  },
  {
   "cell_type": "code",
   "execution_count": 125,
   "metadata": {},
   "outputs": [],
   "source": [
    "isimip2a_isimip2b_slopes.to_excel('slopes_isimip2a_isimip2b.xlsx')"
   ]
  },
  {
   "cell_type": "code",
   "execution_count": 114,
   "metadata": {},
   "outputs": [
    {
     "data": {
      "image/png": "[encoded data removed]",
      "text/plain": [
       "<Figure size 432x288 with 1 Axes>"
      ]
     },
     "metadata": {
      "needs_background": "light"
     },
     "output_type": "display_data"
    },
    {
     "data": {
      "image/png": "[encoded data removed]",
      "text/plain": [
       "<Figure size 432x288 with 1 Axes>"
      ]
     },
     "metadata": {
      "needs_background": "light"
     },
     "output_type": "display_data"
    },
    {
     "data": {
      "image/png": "[encoded data removed]",
      "text/plain": [
       "<Figure size 432x288 with 1 Axes>"
      ]
     },
     "metadata": {
      "needs_background": "light"
     },
     "output_type": "display_data"
    }
   ],
   "source": [
    "x0 = np.linspace(0,365,20)\n",
    "\n",
    "color = ['red','blue']\n",
    "for b in isimip2a_isimip2b_slopes.index:\n",
    "    c=0\n",
    "    fig,ax = plt.subplots()\n",
    "    for a in isimip2a_isimip2b_slopes.columns[1:]:\n",
    "        ax.plot(x0,x0*isimip2a_isimip2b_slopes[a][b],label=a, color= color[c])\n",
    "        c = c+1\n",
    "        if c==2:\n",
    "            c=0\n",
    "        \n",
    "    ax.set_title(isimip2a_isimip2b_slopes['gh_model'][b])\n",
    "    ax.set_xlabel('ndays')\n",
    "    ax.set_ylabel('loss')\n",
    "    ax.legend()"
   ]
  }
 ],
 "metadata": {
  "kernelspec": {
   "display_name": "Python 3",
   "language": "python",
   "name": "python3"
  },
  "language_info": {
   "codemirror_mode": {
    "name": "ipython",
    "version": 3
   },
   "file_extension": ".py",
   "mimetype": "text/x-python",
   "name": "python",
   "nbconvert_exporter": "python",
   "pygments_lexer": "ipython3",
   "version": "3.7.3"
  }
 },
 "nbformat": 4,
 "nbformat_minor": 4
}
