{
 "cells": [
  {
   "cell_type": "code",
   "execution_count": 105,
   "metadata": {},
   "outputs": [],
   "source": [
    "import os\n",
    "import numpy as np\n",
    "import pandas as pd\n",
    "import matplotlib.pyplot as plt\n",
    "import cartopy.crs as ccrs\n",
    "import scipy\n",
    "from scipy.optimize import curve_fit\n",
    "from ast import literal_eval\n",
    "\n",
    "from climada.hazard.low_flow import LowFlow\n",
    "\n",
    "from climada.entity import ImpactFunc, ImpactFuncSet\n",
    "from climada.entity.exposures import Exposures\n",
    "from climada.engine import Impact\n"
   ]
  },
  {
   "cell_type": "markdown",
   "metadata": {},
   "source": [
    "# Old version to get impact functions with ISIMIP2b data --> see if_calibration_isimip2a.ipynb for the 'better' method"
   ]
  },
  {
   "cell_type": "markdown",
   "metadata": {},
   "source": [
    "## Using ISIMIP2b to find impact functions based on historical events--> the dates do not actually corresponding to real events, based fully on discharge values:\n",
    "\n",
    "### for that, we take historical events, see what the discharge reduction was during these events based on literature research. We then calculate for the given region what the percentage discharge is compare to the long term for a 2.5th percentile day. We finally get the number of days by estimating how many days this event would have to last to see the resulting reduction in yearly flow."
   ]
  },
  {
   "cell_type": "code",
   "execution_count": 106,
   "metadata": {},
   "outputs": [],
   "source": [
    "# function to buid impact function based on days instead of relativ flow.\n",
    "# historical_data is a dataframe with containing some data points to build the function:\n",
    "# these must at least be a bbox for the region, a yearly flow reduction from an event in %\n",
    "# and the resulting yearly loss\n",
    "# The other inputs are the same as to build a hazard.\n",
    "\n",
    "\n",
    "\n",
    "def if_finder_isimip2b(histrorical_data, min_days_per_month, percentile, input_dir, gh_model, cl_model, \\\n",
    "                        fn_str_var= 'co2_dis_global_daily', scenario = 'historical',\n",
    "                         soc = 'histsoc', yearrange=[1981,2005], yearrange_ref=[1981,2005]):\n",
    "    \n",
    "    \n",
    "    \n",
    "    ndays_list = []\n",
    "\n",
    "    for index in [3]:  # loop through impact function data points\n",
    " \n",
    "        bbox = literal_eval(historical_data['bbox'].iloc[index]) # area for which to calculate the hazards\n",
    "\n",
    "        haz = LowFlow()\n",
    "\n",
    "        haz.set_from_nc(percentile=percentile, input_dir=input_dir, yearrange=yearrange,yearrange_ref=yearrange_ref,bbox = bbox, gh_model=gh_model,\\\n",
    "                    cl_model=cl_model, scenario=scenario, soc=soc, keep_dis_data = True, min_days_per_month=min_days_per_month)\n",
    "   \n",
    "        \n",
    "        discharge_reduction = float(historical_data[''.join(['discharge_reduction_',gh_model])].iloc[index]) # yearly discharge reduction\n",
    "        loss = historical_data['loss'].iloc[index]\n",
    "        \n",
    "        # get the number of days that the event would have to last to get the equivalent yearly flow \n",
    "        # reduction \n",
    "        ndays = discharge_reduction/(1-haz.data['relative_dis'].mean())*365\n",
    "        ndays_list.append(ndays)\n",
    "        \n",
    "    historical_data[\"_\".join(['ndays',gh_model,cl_model])].iloc[3:4] = ndays_list\n",
    "    return(historical_data)\n",
    "        "
   ]
  },
  {
   "cell_type": "code",
   "execution_count": 114,
   "metadata": {},
   "outputs": [],
   "source": [
    "historical_data = pd.read_excel('historical_data_isimip2b.xlsx')\n"
   ]
  },
  {
   "cell_type": "code",
   "execution_count": null,
   "metadata": {},
   "outputs": [],
   "source": [
    "input_dir = '/home/zelie/Python_projects/low_flow/data/isimip_data/'\n",
    "\n",
    "fn_str_var= 'co2_dis_global_daily'\n",
    "scenario = 'historical'\n",
    "soc = 'histsoc'\n",
    "yearrange=[1981,2005]\n",
    "yearrange_ref=[1981,2005]\n",
    "min_days_per_month=5\n",
    "percentile = 2.5\n",
    "\n",
    "for gh_model in ['h08']:#,'lpjml','matsiro']:\n",
    "    for cl_model in ['hadgem2-es','gfdl-esm2m','miroc5','ipsl-cm5a-lr']:\n",
    "                historical_data = if_finder_isimip2b(historical_data, min_days_per_month, percentile, input_dir, gh_model, cl_model)"
   ]
  },
  {
   "cell_type": "code",
   "execution_count": 115,
   "metadata": {
    "scrolled": true
   },
   "outputs": [
    {
     "data": {
      "text/html": [
       "<div>\n",
       "<style scoped>\n",
       "    .dataframe tbody tr th:only-of-type {\n",
       "        vertical-align: middle;\n",
       "    }\n",
       "\n",
       "    .dataframe tbody tr th {\n",
       "        vertical-align: top;\n",
       "    }\n",
       "\n",
       "    .dataframe thead th {\n",
       "        text-align: right;\n",
       "    }\n",
       "</style>\n",
       "<table border=\"1\" class=\"dataframe\">\n",
       "  <thead>\n",
       "    <tr style=\"text-align: right;\">\n",
       "      <th></th>\n",
       "      <th>Focus</th>\n",
       "      <th>Region</th>\n",
       "      <th>bbox</th>\n",
       "      <th>discharge_reduction_lpjml</th>\n",
       "      <th>discharge_reduction_h08</th>\n",
       "      <th>discharge_reduction_matsiro</th>\n",
       "      <th>loss</th>\n",
       "      <th>ndays_lpjml_gfdl-esm2m</th>\n",
       "      <th>ndays_lpjml_hadgem2-es</th>\n",
       "      <th>ndays_lpjml_miroc5</th>\n",
       "      <th>...</th>\n",
       "      <th>ndays_h08_hadgem2-es</th>\n",
       "      <th>ndays_h08_miroc5</th>\n",
       "      <th>ndays_h08_ipsl-cm5a-lr</th>\n",
       "      <th>ndays_matsiro_gfdl-esm2m</th>\n",
       "      <th>ndays_matsiro_hadgem2-es</th>\n",
       "      <th>ndays_matsiro_miroc5</th>\n",
       "      <th>ndays_matsiro_ipsl-cm5a-lr</th>\n",
       "      <th>lpjml</th>\n",
       "      <th>h08</th>\n",
       "      <th>matsiro</th>\n",
       "    </tr>\n",
       "  </thead>\n",
       "  <tbody>\n",
       "    <tr>\n",
       "      <th>0</th>\n",
       "      <td>Hydro</td>\n",
       "      <td>Spain</td>\n",
       "      <td>[-9, 36, 0, 43]</td>\n",
       "      <td>0.400</td>\n",
       "      <td>0.400</td>\n",
       "      <td>0.400</td>\n",
       "      <td>0.360</td>\n",
       "      <td>147.625905</td>\n",
       "      <td>147.153541</td>\n",
       "      <td>147.607884</td>\n",
       "      <td>...</td>\n",
       "      <td>159.124142</td>\n",
       "      <td>163.780676</td>\n",
       "      <td>157.424331</td>\n",
       "      <td>184.410263</td>\n",
       "      <td>177.053534</td>\n",
       "      <td>184.392716</td>\n",
       "      <td>174.695545</td>\n",
       "      <td>147.363721</td>\n",
       "      <td>160.491618</td>\n",
       "      <td>180.138015</td>\n",
       "    </tr>\n",
       "    <tr>\n",
       "      <th>1</th>\n",
       "      <td>Hydro</td>\n",
       "      <td>California</td>\n",
       "      <td>[-121, 32, -113, 41]</td>\n",
       "      <td>0.380</td>\n",
       "      <td>0.380</td>\n",
       "      <td>0.380</td>\n",
       "      <td>0.500</td>\n",
       "      <td>163.623890</td>\n",
       "      <td>151.276405</td>\n",
       "      <td>161.996647</td>\n",
       "      <td>...</td>\n",
       "      <td>195.940772</td>\n",
       "      <td>189.757309</td>\n",
       "      <td>196.820995</td>\n",
       "      <td>156.690320</td>\n",
       "      <td>155.150555</td>\n",
       "      <td>154.344929</td>\n",
       "      <td>156.649328</td>\n",
       "      <td>158.465328</td>\n",
       "      <td>193.213337</td>\n",
       "      <td>155.708783</td>\n",
       "    </tr>\n",
       "    <tr>\n",
       "      <th>2</th>\n",
       "      <td>Nuclear</td>\n",
       "      <td>Elbe</td>\n",
       "      <td>[8, 49, 16, 57]</td>\n",
       "      <td>0.207</td>\n",
       "      <td>0.207</td>\n",
       "      <td>0.207</td>\n",
       "      <td>0.121</td>\n",
       "      <td>80.348232</td>\n",
       "      <td>79.268436</td>\n",
       "      <td>80.723487</td>\n",
       "      <td>...</td>\n",
       "      <td>98.831779</td>\n",
       "      <td>99.605056</td>\n",
       "      <td>103.315537</td>\n",
       "      <td>147.732579</td>\n",
       "      <td>137.900041</td>\n",
       "      <td>146.357900</td>\n",
       "      <td>173.733146</td>\n",
       "      <td>80.379709</td>\n",
       "      <td>100.567825</td>\n",
       "      <td>151.430917</td>\n",
       "    </tr>\n",
       "    <tr>\n",
       "      <th>3</th>\n",
       "      <td>Nuclear</td>\n",
       "      <td>Germany</td>\n",
       "      <td>[6, 47, 15, 54]</td>\n",
       "      <td>0.440</td>\n",
       "      <td>0.110</td>\n",
       "      <td>0.440</td>\n",
       "      <td>0.115</td>\n",
       "      <td>169.812189</td>\n",
       "      <td>167.439366</td>\n",
       "      <td>170.805988</td>\n",
       "      <td>...</td>\n",
       "      <td>204.786512</td>\n",
       "      <td>205.390865</td>\n",
       "      <td>213.131782</td>\n",
       "      <td>374.807637</td>\n",
       "      <td>349.537848</td>\n",
       "      <td>363.360542</td>\n",
       "      <td>427.864268</td>\n",
       "      <td>170.430173</td>\n",
       "      <td>206.982833</td>\n",
       "      <td>378.892574</td>\n",
       "    </tr>\n",
       "    <tr>\n",
       "      <th>4</th>\n",
       "      <td>Hydro</td>\n",
       "      <td>Central Europe</td>\n",
       "      <td>[6, 47, 25, 54]</td>\n",
       "      <td>0.250</td>\n",
       "      <td>0.200</td>\n",
       "      <td>0.126</td>\n",
       "      <td>0.066</td>\n",
       "      <td>96.070088</td>\n",
       "      <td>95.494352</td>\n",
       "      <td>96.911725</td>\n",
       "      <td>...</td>\n",
       "      <td>93.593194</td>\n",
       "      <td>95.841213</td>\n",
       "      <td>101.082347</td>\n",
       "      <td>95.781287</td>\n",
       "      <td>86.520399</td>\n",
       "      <td>94.987540</td>\n",
       "      <td>104.482942</td>\n",
       "      <td>46.431381</td>\n",
       "      <td>57.931433</td>\n",
       "      <td>90.898135</td>\n",
       "    </tr>\n",
       "    <tr>\n",
       "      <th>5</th>\n",
       "      <td>Nuclear</td>\n",
       "      <td>Central Europe</td>\n",
       "      <td>[6, 47, 25, 54]</td>\n",
       "      <td>0.250</td>\n",
       "      <td>0.200</td>\n",
       "      <td>0.126</td>\n",
       "      <td>0.047</td>\n",
       "      <td>96.070088</td>\n",
       "      <td>95.494352</td>\n",
       "      <td>96.911725</td>\n",
       "      <td>...</td>\n",
       "      <td>93.593194</td>\n",
       "      <td>95.841213</td>\n",
       "      <td>101.082347</td>\n",
       "      <td>95.781287</td>\n",
       "      <td>86.520399</td>\n",
       "      <td>94.987540</td>\n",
       "      <td>104.482942</td>\n",
       "      <td>46.431381</td>\n",
       "      <td>57.931433</td>\n",
       "      <td>90.898135</td>\n",
       "    </tr>\n",
       "  </tbody>\n",
       "</table>\n",
       "<p>6 rows × 22 columns</p>\n",
       "</div>"
      ],
      "text/plain": [
       "     Focus          Region                  bbox  discharge_reduction_lpjml  \\\n",
       "0    Hydro           Spain       [-9, 36, 0, 43]                      0.400   \n",
       "1    Hydro      California  [-121, 32, -113, 41]                      0.380   \n",
       "2  Nuclear            Elbe       [8, 49, 16, 57]                      0.207   \n",
       "3  Nuclear         Germany       [6, 47, 15, 54]                      0.440   \n",
       "4    Hydro  Central Europe       [6, 47, 25, 54]                      0.250   \n",
       "5  Nuclear  Central Europe       [6, 47, 25, 54]                      0.250   \n",
       "\n",
       "   discharge_reduction_h08  discharge_reduction_matsiro   loss  \\\n",
       "0                    0.400                        0.400  0.360   \n",
       "1                    0.380                        0.380  0.500   \n",
       "2                    0.207                        0.207  0.121   \n",
       "3                    0.110                        0.440  0.115   \n",
       "4                    0.200                        0.126  0.066   \n",
       "5                    0.200                        0.126  0.047   \n",
       "\n",
       "   ndays_lpjml_gfdl-esm2m  ndays_lpjml_hadgem2-es  ndays_lpjml_miroc5  ...  \\\n",
       "0              147.625905              147.153541          147.607884  ...   \n",
       "1              163.623890              151.276405          161.996647  ...   \n",
       "2               80.348232               79.268436           80.723487  ...   \n",
       "3              169.812189              167.439366          170.805988  ...   \n",
       "4               96.070088               95.494352           96.911725  ...   \n",
       "5               96.070088               95.494352           96.911725  ...   \n",
       "\n",
       "   ndays_h08_hadgem2-es  ndays_h08_miroc5  ndays_h08_ipsl-cm5a-lr  \\\n",
       "0            159.124142        163.780676              157.424331   \n",
       "1            195.940772        189.757309              196.820995   \n",
       "2             98.831779         99.605056              103.315537   \n",
       "3            204.786512        205.390865              213.131782   \n",
       "4             93.593194         95.841213              101.082347   \n",
       "5             93.593194         95.841213              101.082347   \n",
       "\n",
       "   ndays_matsiro_gfdl-esm2m  ndays_matsiro_hadgem2-es  ndays_matsiro_miroc5  \\\n",
       "0                184.410263                177.053534            184.392716   \n",
       "1                156.690320                155.150555            154.344929   \n",
       "2                147.732579                137.900041            146.357900   \n",
       "3                374.807637                349.537848            363.360542   \n",
       "4                 95.781287                 86.520399             94.987540   \n",
       "5                 95.781287                 86.520399             94.987540   \n",
       "\n",
       "   ndays_matsiro_ipsl-cm5a-lr       lpjml         h08     matsiro  \n",
       "0                  174.695545  147.363721  160.491618  180.138015  \n",
       "1                  156.649328  158.465328  193.213337  155.708783  \n",
       "2                  173.733146   80.379709  100.567825  151.430917  \n",
       "3                  427.864268  170.430173  206.982833  378.892574  \n",
       "4                  104.482942   46.431381   57.931433   90.898135  \n",
       "5                  104.482942   46.431381   57.931433   90.898135  \n",
       "\n",
       "[6 rows x 22 columns]"
      ]
     },
     "execution_count": 115,
     "metadata": {},
     "output_type": "execute_result"
    }
   ],
   "source": [
    "historical_data"
   ]
  },
  {
   "cell_type": "code",
   "execution_count": null,
   "metadata": {},
   "outputs": [],
   "source": [
    "historical_data['lpjml'] = historical_data.iloc[:,5:9].mean(axis=1)\n",
    "\n",
    "historical_data['h08'] = historical_data.iloc[:,9:13].mean(axis=1)\n",
    "\n",
    "historical_data['matsiro'] = historical_data.iloc[:,13:17].mean(axis=1)"
   ]
  },
  {
   "cell_type": "code",
   "execution_count": 116,
   "metadata": {
    "scrolled": true
   },
   "outputs": [],
   "source": [
    "hydro_if = historical_data[historical_data['Focus']=='Hydro']\n",
    "thermo_if = historical_data[historical_data['Focus']!='Hydro']\n"
   ]
  },
  {
   "cell_type": "markdown",
   "metadata": {},
   "source": [
    "lpjm and h08 hydro models combined with the 4 climate models, these look like we can make a common if, the points are quite close for all combinations"
   ]
  },
  {
   "cell_type": "code",
   "execution_count": 117,
   "metadata": {},
   "outputs": [
    {
     "data": {
      "image/png": "[encoded data removed]",
      "text/plain": [
       "<Figure size 432x288 with 1 Axes>"
      ]
     },
     "metadata": {
      "needs_background": "light"
     },
     "output_type": "display_data"
    },
    {
     "data": {
      "image/png": "[encoded data removed]",
      "text/plain": [
       "<Figure size 432x288 with 1 Axes>"
      ]
     },
     "metadata": {
      "needs_background": "light"
     },
     "output_type": "display_data"
    }
   ],
   "source": [
    "\n",
    "fig,ax = plt.subplots()\n",
    "for gh_model in ['lpjml','h08']:\n",
    "    for cl_model in ['gfdl-esm2m','hadgem2-es','miroc5','ipsl-cm5a-lr']:\n",
    "        ax.scatter(hydro_if[\"_\".join(['ndays',gh_model,cl_model])],hydro_if['loss'])\n",
    "        ax.scatter([0,365],[0,1],color='black')                \n",
    "        \n",
    "fig,ax = plt.subplots()\n",
    "for gh_model in ['lpjml','h08']:\n",
    "    for cl_model in ['gfdl-esm2m','hadgem2-es','miroc5','ipsl-cm5a-lr']:\n",
    "        ax.scatter(thermo_if[\"_\".join(['ndays',gh_model,cl_model])],thermo_if['loss'])\n",
    "        ax.scatter([0,365],[0,1],color='black')\n",
    "        \n",
    " #the points in black would be assumptions       "
   ]
  },
  {
   "cell_type": "code",
   "execution_count": 118,
   "metadata": {},
   "outputs": [
    {
     "data": {
      "image/png": "[encoded data removed]",
      "text/plain": [
       "<Figure size 432x288 with 1 Axes>"
      ]
     },
     "metadata": {
      "needs_background": "light"
     },
     "output_type": "display_data"
    },
    {
     "data": {
      "image/png": "[encoded data removed]",
      "text/plain": [
       "<Figure size 432x288 with 1 Axes>"
      ]
     },
     "metadata": {
      "needs_background": "light"
     },
     "output_type": "display_data"
    }
   ],
   "source": [
    "fig,ax = plt.subplots()\n",
    "for gh_model in ['matsiro']:\n",
    "    for cl_model in ['gfdl-esm2m','hadgem2-es','miroc5','ipsl-cm5a-lr']:\n",
    "        ax.scatter(hydro_if[\"_\".join(['ndays',gh_model,cl_model])],hydro_if['loss'])\n",
    "        ax.scatter([0,365],[0,1],color='black')                \n",
    "        \n",
    "fig,ax = plt.subplots()\n",
    "for gh_model in ['matsiro']:\n",
    "    for cl_model in ['gfdl-esm2m','hadgem2-es','miroc5','ipsl-cm5a-lr']:\n",
    "        ax.scatter(thermo_if[\"_\".join(['ndays',gh_model,cl_model])],thermo_if['loss'])\n",
    "        ax.scatter([0,365],[0,1],color='black')\n",
    "        \n",
    "#the points in black would be assumptions"
   ]
  },
  {
   "cell_type": "code",
   "execution_count": 148,
   "metadata": {},
   "outputs": [
    {
     "data": {
      "image/png": "[encoded data removed]",
      "text/plain": [
       "<Figure size 432x288 with 1 Axes>"
      ]
     },
     "metadata": {
      "needs_background": "light"
     },
     "output_type": "display_data"
    },
    {
     "data": {
      "image/png": "[encoded data removed]",
      "text/plain": [
       "<Figure size 432x288 with 1 Axes>"
      ]
     },
     "metadata": {
      "needs_background": "light"
     },
     "output_type": "display_data"
    },
    {
     "data": {
      "image/png": "[encoded data removed]",
      "text/plain": [
       "<Figure size 432x288 with 1 Axes>"
      ]
     },
     "metadata": {
      "needs_background": "light"
     },
     "output_type": "display_data"
    }
   ],
   "source": [
    "isimip2a_isimip2b_slopes = pd.read_excel('slopes_isimip2a_isimip2b.xlsx')\n",
    "\n",
    "hydro = historical_data[historical_data['Focus']=='Hydro']\n",
    "thermo = historical_data[historical_data['Focus']!='Hydro']\n",
    "\n",
    "\n",
    "col = {'thermo':'Red', 'hydro':'blue'}\n",
    "\n",
    "data = {'thermo':thermo,'hydro':hydro}\n",
    "if_slopes = {}\n",
    "\n",
    "for h_model in ['h08','lpjml', ]:\n",
    "    fig, ax = plt.subplots()\n",
    "    if_slopes[h_model] = {}\n",
    "    for technology in ['hydro','thermo']:\n",
    "        n = [0]+list(data[technology][h_model])\n",
    "        d = [0]+list(data[technology]['loss'])\n",
    "\n",
    "        x0 = np.linspace(0,365*2,100)\n",
    "        s = np.polyfit(n,d,1)[0]\n",
    "        \n",
    "        isimip2a_isimip2b_slopes[''.join([technology,'_isimip2b'])][isimip2a_isimip2b_slopes['gh_model']==h_model]=s\n",
    "        \n",
    "        if_slopes[h_model][technology] = s\n",
    "        ax.plot(x0,s*x0,color = col[technology],label=technology)\n",
    "        ax.scatter(n,d,color = col[technology])\n",
    "        ax.set_xlabel('Number of days below threshold')\n",
    "        ax.set_ylabel('Loss')\n",
    "        ax.legend()\n",
    "        ax.set_title(\" \".join([h_model]))\n",
    "        "
   ]
  },
  {
   "cell_type": "code",
   "execution_count": 155,
   "metadata": {},
   "outputs": [],
   "source": [
    "isimip2a_isimip2b_slopes.to_excel('slopes_isimip2a_isimip2b.xlsx')\n"
   ]
  }
 ],
 "metadata": {
  "kernelspec": {
   "display_name": "Python 3",
   "language": "python",
   "name": "python3"
  },
  "language_info": {
   "codemirror_mode": {
    "name": "ipython",
    "version": 3
   },
   "file_extension": ".py",
   "mimetype": "text/x-python",
   "name": "python",
   "nbconvert_exporter": "python",
   "pygments_lexer": "ipython3",
   "version": "3.7.3"
  }
 },
 "nbformat": 4,
 "nbformat_minor": 4
}
