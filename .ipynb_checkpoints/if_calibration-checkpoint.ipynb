{
 "cells": [
  {
   "cell_type": "code",
   "execution_count": null,
   "metadata": {},
   "outputs": [],
   "source": [
    "import os\n",
    "import numpy as np\n",
    "import pandas as pd\n",
    "import matplotlib.pyplot as plt\n",
    "import cartopy.crs as ccrs\n",
    "import scipy\n",
    "from scipy.optimize import curve_fit\n",
    "from ast import literal_eval\n",
    "\n",
    "\n",
    "import sys\n",
    "#sys.path.append('/home/zelie/Python_projects/\\\n",
    "#water_scarcity_model/LowFlow/Code') \n",
    "\n",
    "from climada.hazard.low_flow import LowFlow\n",
    "\n",
    "from climada.entity import ImpactFunc, ImpactFuncSet\n",
    "from climada.entity.exposures import Exposures\n",
    "from climada.engine import Impact\n",
    "\n",
    "data_isimip_dir = '../data/hazard/'"
   ]
  },
  {
   "cell_type": "code",
   "execution_count": null,
   "metadata": {},
   "outputs": [],
   "source": [
    "fn_str_var= 'co2_dis_global_daily'\n",
    "scenario = 'historical'\n",
    "soc = 'histsoc'\n",
    "yearrange=[1981,2005]\n",
    "yearrange_ref=[1981,2005]\n",
    "percentile = 10\n",
    "bbox = [8, 49, 14, 54]\n",
    "input_dir=data_isimip_dir\n",
    "gh_model='h08'\n",
    "cl_model='hadgem2-es'\n",
    "min_days_per_month=5\n",
    "input_dir = data_isimip_dir"
   ]
  },
  {
   "cell_type": "code",
   "execution_count": null,
   "metadata": {
    "scrolled": true
   },
   "outputs": [],
   "source": [
    "haz_ho8_hadgem2 = LowFlow()\n",
    "    \n",
    "haz_ho8_hadgem2.set_from_nc(percentile=percentile, input_dir=input_dir, yearrange=yearrange,yearrange_ref=yearrange_ref,bbox = bbox, gh_model=gh_model,\\\n",
    "                    cl_model=cl_model, scenario=scenario, soc=soc, keep_dis_data = True, min_days_per_month=min_days_per_month)"
   ]
  },
  {
   "cell_type": "code",
   "execution_count": null,
   "metadata": {
    "scrolled": true
   },
   "outputs": [],
   "source": [
    "haz_ho8_hadgem2.data['relative_dis'].mean()"
   ]
  },
  {
   "cell_type": "code",
   "execution_count": null,
   "metadata": {},
   "outputs": [],
   "source": [
    "gh_model='matsiro'\n"
   ]
  },
  {
   "cell_type": "code",
   "execution_count": null,
   "metadata": {},
   "outputs": [],
   "source": [
    "haz_matsiro_miroc5 = LowFlow()\n",
    "\n",
    "haz_matsiro_miroc5.set_from_nc(percentile=percentile, input_dir=input_dir, yearrange=yearrange,yearrange_ref=yearrange_ref,bbox = bbox, gh_model=gh_model,\\\n",
    "                    cl_model=cl_model, scenario=scenario, soc=soc, keep_dis_data = True, min_days_per_month=min_days_per_month)"
   ]
  },
  {
   "cell_type": "code",
   "execution_count": null,
   "metadata": {},
   "outputs": [],
   "source": [
    "haz_matsiro_miroc5.data['relative_dis'].mean()"
   ]
  },
  {
   "cell_type": "code",
   "execution_count": null,
   "metadata": {},
   "outputs": [],
   "source": []
  },
  {
   "cell_type": "code",
   "execution_count": null,
   "metadata": {},
   "outputs": [],
   "source": [
    "# function to buid impact function based on days instead of relativ flow.\n",
    "# IF_data is a dataframe with containing some data points to build the function:\n",
    "# these must at least be a bbox for the region, a yearly flow reduction from an event in %\n",
    "# and the resulting yearly loss\n",
    "# The other inputs are the same as to build a hazard.\n",
    "\n",
    "def make_IF(IF_data, min_days_per_month, percentile, input_dir, gh_model, cl_model, \\\n",
    "                        fn_str_var= 'co2_dis_global_daily', scenario = 'historical',\n",
    "                         soc = 'histsoc', yearrange=[1981,2005], yearrange_ref=[1981,2005],):\n",
    "    \n",
    "    ndays_list = []\n",
    "\n",
    "    for index, row in IF_data.iterrows():  # loop through impact function data points\n",
    " \n",
    "        bbox = literal_eval(IF_data['bbox'].iloc[index]) # area for which to calculate the hazards\n",
    "\n",
    "        haz = LowFlow()\n",
    "\n",
    "        haz.set_from_nc(percentile=percentile, input_dir=input_dir, yearrange=yearrange,yearrange_ref=yearrange_ref,bbox = bbox, gh_model=gh_model,\\\n",
    "                    cl_model=cl_model, scenario=scenario, soc=soc, keep_dis_data = True, min_days_per_month=min_days_per_month)\n",
    "   \n",
    "    \n",
    "        discharge_reduction = IF_data['discharge reduction'].iloc[index] # yearly discharge reduction\n",
    "        loss = IF_data['loss'].iloc[index]\n",
    "        \n",
    "        # get the number of days that the event would have to last to get the equivalent yearly flow \n",
    "        # reduction \n",
    "        ndays = discharge_reduction/(1-haz.data['relative_dis'].mean())*365\n",
    "        ndays_list.append(ndays)\n",
    "        \n",
    "    IF_data[\"_\".join(['ndays',gh_model,cl_model])] = ndays_list\n",
    "    return(IF_data)\n",
    "        "
   ]
  },
  {
   "cell_type": "code",
   "execution_count": null,
   "metadata": {},
   "outputs": [],
   "source": [
    "fn_str_var= 'co2_dis_global_daily'\n",
    "scenario = 'historical'\n",
    "soc = 'histsoc'\n",
    "yearrange=[1981,2005]\n",
    "yearrange_ref=[1981,2005]\n",
    "input_dir=data_isimip_dir\n",
    "min_days_per_month=5\n",
    "input_dir = data_isimip_dir\n",
    "IF_data = pd.read_csv('IF_data.csv')\n",
    "\n",
    "for gh_model in ['h08','lpjml','matsiro']:\n",
    "    for cl_model in ['gfdl-esm2m','hadgem2-es','miroc5','ipsl-cm5a-lr']:\n",
    "        IF_data = make_IF(IF_data, 5, 2.5, input_dir, gh_model, cl_model)"
   ]
  },
  {
   "cell_type": "code",
   "execution_count": null,
   "metadata": {},
   "outputs": [],
   "source": [
    "IF_data\n"
   ]
  },
  {
   "cell_type": "code",
   "execution_count": null,
   "metadata": {},
   "outputs": [],
   "source": [
    "IF_data = pd.read_csv('IF_data.csv')\n"
   ]
  },
  {
   "cell_type": "code",
   "execution_count": null,
   "metadata": {},
   "outputs": [],
   "source": [
    "IF_data = IF_data[['Focus', 'Region', 'bbox', 'discharge reduction', 'loss',\n",
    "       'ndays_lpjml_gfdl-esm2m',\n",
    "       'ndays_lpjml_hadgem2-es', 'ndays_lpjml_miroc5',\n",
    "       'ndays_lpjml_ipsl-cm5a-lr', 'ndays_h08_gfdl-esm2m','ndays_h08_hadgem2-es', 'ndays_h08_miroc5',\n",
    "       'ndays_h08_ipsl-cm5a-lr', 'ndays_matsiro_gfdl-esm2m',\n",
    "       'ndays_matsiro_hadgem2-es', 'ndays_matsiro_miroc5',\n",
    "       'ndays_matsiro_ipsl-cm5a-lr']]\n"
   ]
  },
  {
   "cell_type": "code",
   "execution_count": null,
   "metadata": {},
   "outputs": [],
   "source": [
    "IF_data['lpjml'] = IF_data.iloc[:,5:9].mean(axis=1)\n",
    "\n",
    "IF_data['h08'] = IF_data.iloc[:,9:13].mean(axis=1)\n",
    "\n",
    "IF_data['matsiro'] = IF_data.iloc[:,13:17].mean(axis=1)"
   ]
  },
  {
   "cell_type": "code",
   "execution_count": null,
   "metadata": {},
   "outputs": [],
   "source": [
    "hydro = IF_data[IF_data['Focus']=='Hydro']\n",
    "thermo = IF_data[IF_data['Focus']!='Hydro']\n"
   ]
  },
  {
   "cell_type": "code",
   "execution_count": null,
   "metadata": {},
   "outputs": [],
   "source": [
    "IF_data.to_csv('IF_data.csv')"
   ]
  },
  {
   "cell_type": "markdown",
   "metadata": {},
   "source": [
    "lpjm and h08 hydro models combined with the 4 climate models, these look like we can make a common if, the points are quite close for all combinations"
   ]
  },
  {
   "cell_type": "code",
   "execution_count": null,
   "metadata": {},
   "outputs": [],
   "source": [
    "\n",
    "fig,ax = plt.subplots()\n",
    "for gh_model in ['lpjml','h08']:\n",
    "    for cl_model in ['gfdl-esm2m','hadgem2-es','miroc5','ipsl-cm5a-lr']:\n",
    "        ax.scatter(hydro[\"_\".join(['ndays',gh_model,cl_model])],hydro['discharge reduction'])\n",
    "        ax.scatter([0,365],[0,1],color='black')                \n",
    "        \n",
    "fig,ax = plt.subplots()\n",
    "for gh_model in ['lpjml','h08']:\n",
    "    for cl_model in ['gfdl-esm2m','hadgem2-es','miroc5','ipsl-cm5a-lr']:\n",
    "        ax.scatter(thermo[\"_\".join(['ndays',gh_model,cl_model])],thermo['discharge reduction'])\n",
    "        ax.scatter([0,365],[0,1],color='black')\n",
    "        \n",
    " #the points in black would be assumptions       "
   ]
  },
  {
   "cell_type": "markdown",
   "metadata": {},
   "source": [
    "below Matsiro hydro model, a bit of a mess... as seen above the relative discharge during events is much higher compared to the others.\n",
    "I don't know if their is an error during the calculation or if it is really so."
   ]
  },
  {
   "cell_type": "code",
   "execution_count": null,
   "metadata": {},
   "outputs": [],
   "source": [
    "fig,ax = plt.subplots()\n",
    "for gh_model in ['matsiro']:\n",
    "    for cl_model in ['gfdl-esm2m','hadgem2-es','miroc5','ipsl-cm5a-lr']:\n",
    "        ax.scatter(hydro[\"_\".join(['ndays',gh_model,cl_model])],hydro['discharge reduction'])\n",
    "        ax.scatter([0,365],[0,1], color= 'black')                \n",
    "        \n",
    "fig,ax = plt.subplots()\n",
    "for gh_model in ['matsiro']:\n",
    "    for cl_model in ['gfdl-esm2m','hadgem2-es','miroc5','ipsl-cm5a-lr']:\n",
    "        ax.scatter(thermo[\"_\".join(['ndays',gh_model,cl_model])],thermo['discharge reduction'])\n",
    "        ax.scatter([0,365],[0,1],color = 'black')\n",
    "        \n",
    "        \n",
    "        \n",
    "#the points in black would be assumptions"
   ]
  },
  {
   "cell_type": "code",
   "execution_count": null,
   "metadata": {},
   "outputs": [],
   "source": [
    "bounds_thermo = {'lpjml':([0.03, 140],[0.05, 180.]),'matsiro':([0.025, 160.],[0.09, 200.]),'h08':([0.025, 160.],[0.09, 190.])}\n",
    "bounds_hydro = {'lpjml':([0.03, 140],[0.05, 180.]),'matsiro':([0.025, 160.],[0.09, 200.]),'h08':([0.025, 160.],[0.09, 180.])}\n",
    "bounds = {'thermo':bounds_thermo,'hydro':bounds_hydro}\n",
    "col = {'thermo':'Red', 'hydro':'blue'}\n",
    "\n",
    "data = {'thermo':thermo,'hydro':hydro}\n",
    "\n",
    "for h_model in ['matsiro','h08','lpjml']:\n",
    "    fig, ax = plt.subplots()\n",
    "    \n",
    "    for technology in ['thermo','hydro']:\n",
    "        \n",
    "\n",
    "        n = list(data[technology][h_model])+[0,365]\n",
    "        d = list(data[technology]['discharge reduction'])+[0,1]\n",
    "\n",
    "        x0 = np.linspace(0,365,365)\n",
    "\n",
    "        def fsigmoid(x, a, b):\n",
    "            return 1.0 / (1.0 + np.exp(-a*(x-b)))\n",
    "\n",
    "        p0 = [max(d), np.median(n), 1, min(d)]  \n",
    "        popt, pcov = curve_fit(fsigmoid, n, d, method='dogbox',bounds=bounds[technology][h_model])\n",
    "\n",
    "        fit_thermo = fsigmoid(x0,*popt)\n",
    "        ax.plot(x0,fit_thermo,color = col[technology],label=technology)\n",
    "\n",
    "        ax.scatter(n,d,color = col[technology])\n",
    "        ax.set_xlabel('Number of days below threshold')\n",
    "        ax.set_ylabel('Loss [%]')\n",
    "        ax.legend()\n",
    "        ax.set_title(\" \".join([h_model]))\n",
    "\n",
    "    \n"
   ]
  },
  {
   "cell_type": "code",
   "execution_count": null,
   "metadata": {},
   "outputs": [],
   "source": []
  }
 ],
 "metadata": {
  "kernelspec": {
   "display_name": "Python 3",
   "language": "python",
   "name": "python3"
  },
  "language_info": {
   "codemirror_mode": {
    "name": "ipython",
    "version": 3
   },
   "file_extension": ".py",
   "mimetype": "text/x-python",
   "name": "python",
   "nbconvert_exporter": "python",
   "pygments_lexer": "ipython3",
   "version": "3.7.3"
  }
 },
 "nbformat": 4,
 "nbformat_minor": 4
}
